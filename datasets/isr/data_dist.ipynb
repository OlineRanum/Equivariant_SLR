{
 "cells": [
  {
   "cell_type": "code",
   "execution_count": 24,
   "metadata": {},
   "outputs": [],
   "source": [
    "from dataset_isr import ISRDataReader\n",
    "import os\n",
    "import argparse\n",
    "\n",
    "# Initialize the argument parser\n",
    "parser = argparse.ArgumentParser()\n",
    "\n",
    "# Manually set the arguments (modify these values as needed)\n",
    "args = parser.parse_args(args=[\n",
    "    '--root', '',\n",
    "    '--root_metadata', 'wlasl_new.json',\n",
    "    '--root_poses', 'wlasl_poses_pickle',\n",
    "    '--batch_size', '5',\n",
    "    '--temporal_configuration', 'spatio_temporal'\n",
    "])\n",
    "\n",
    "# Use the arguments\n",
    "data_dir =os.path.join(os.getcwd(), args.root)\n",
    "data = ISRDataReader(data_dir, args)\n"
   ]
  },
  {
   "cell_type": "code",
   "execution_count": null,
   "metadata": {},
   "outputs": [],
   "source": [
    "from dataset_isr import PyGDataLoader\n",
    "pyg_loader = PyGDataLoader(data, args)\n",
    "pyg_loader.build_loaders()"
   ]
  },
  {
   "cell_type": "code",
   "execution_count": 13,
   "metadata": {},
   "outputs": [
    {
     "name": "stdout",
     "output_type": "stream",
     "text": [
      "2\n"
     ]
    }
   ],
   "source": []
  },
  {
   "cell_type": "code",
   "execution_count": 12,
   "metadata": {},
   "outputs": [
    {
     "name": "stderr",
     "output_type": "stream",
     "text": [
      "usage: ipykernel_launcher.py [-h] [--root ROOT]\n",
      "                             [--root_metadata ROOT_METADATA]\n",
      "                             [--root_poses ROOT_POSES]\n",
      "                             [--batch_size BATCH_SIZE]\n",
      "                             [--temporal_configuration TEMPORAL_CONFIGURATION]\n",
      "ipykernel_launcher.py: error: unrecognized arguments: --f=/home/oranum/.local/share/jupyter/runtime/kernel-v2-3049798i2QsTADI6GBD.json\n"
     ]
    },
    {
     "ename": "SystemExit",
     "evalue": "2",
     "output_type": "error",
     "traceback": [
      "An exception has occurred, use %tb to see the full traceback.\n",
      "\u001b[0;31mSystemExit\u001b[0m\u001b[0;31m:\u001b[0m 2\n"
     ]
    }
   ],
   "source": []
  },
  {
   "cell_type": "code",
   "execution_count": null,
   "metadata": {},
   "outputs": [],
   "source": []
  }
 ],
 "metadata": {
  "kernelspec": {
   "display_name": "ponita",
   "language": "python",
   "name": "python3"
  },
  "language_info": {
   "codemirror_mode": {
    "name": "ipython",
    "version": 3
   },
   "file_extension": ".py",
   "mimetype": "text/x-python",
   "name": "python",
   "nbconvert_exporter": "python",
   "pygments_lexer": "ipython3",
   "version": "3.10.13"
  }
 },
 "nbformat": 4,
 "nbformat_minor": 2
}
